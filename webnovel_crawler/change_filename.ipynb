{
 "cells": [
  {
   "cell_type": "code",
   "execution_count": 1,
   "metadata": {
    "collapsed": true
   },
   "outputs": [],
   "source": [
    "import re\n",
    "import os\n",
    "import codecs"
   ]
  },
  {
   "cell_type": "code",
   "execution_count": 2,
   "metadata": {
    "collapsed": true
   },
   "outputs": [],
   "source": [
    "genre_item_list = {\n",
    "    'romance' : [101, 'rom'], \n",
    "    'romancefantasy' : [109, 'rof'], \n",
    "    'fantasy' : [102, 'sff'], \n",
    "    'action' :[103, 'hro'],\n",
    "    'mystery' : [104,'mth'],\n",
    "    'history&war' :[105, 'his'], \n",
    "    'lightnovel' :[106, 'lno'], \n",
    "    'fusion' : [108, 'fus']\n",
    "} "
   ]
  },
  {
   "cell_type": "code",
   "execution_count": null,
   "metadata": {
    "collapsed": true
   },
   "outputs": [],
   "source": [
    "def get_file_lst(drama_name):\n",
    "    fileLst = []\n",
    "    path_dir = '../txt/' + drama_name + '/'\n",
    "    file_list = os.listdir(path_dir)\n",
    "    for file_path in file_list:\n",
    "        if file_path.find('.txt') is not -1:\n",
    "            file_name = path_dir + file_path\n",
    "            fileLst.append(file_name)\n",
    "    return fileLst"
   ]
  },
  {
   "cell_type": "code",
   "execution_count": null,
   "metadata": {
    "collapsed": true
   },
   "outputs": [],
   "source": [
    "def read_files(fileLst):\n",
    "    processingLst = []\n",
    "    for file in fileLst:\n",
    "        inputFile = open(file, 'r', encoding = 'utf-8')\n",
    "        temp1 = inputFile.readlines() #readlines()로 읽어오면 list 타입으로 리턴됨\n",
    "    #     print(temp1)\n",
    "        temp2 = []\n",
    "        for i in range(len(temp1)): #불필요한 newline 제거\n",
    "#             if (temp1[i] == \"\\n\"):\n",
    "#                 temp2.append('<scene>')\n",
    "            temp1[i] = temp1[i].strip(\"\\n\")\n",
    "            if (temp1[i] == \"\") or (temp1[i] == \"/\") or (temp1[i] == \"\\t\") or (temp1[i] == \" \"):\n",
    "                continue\n",
    "            elif temp1[i] == \"  \":\n",
    "                continue\n",
    "            else:\n",
    "                temp2.append(temp1[i])\n",
    "        inputFile.close()\n",
    "        processingLst.append(temp2)\n",
    "    return processingLst"
   ]
  },
  {
   "cell_type": "code",
   "execution_count": 3,
   "metadata": {
    "collapsed": false
   },
   "outputs": [],
   "source": [
    "for genre in genre_item_list.keys():\n",
    "    fileLst = []\n",
    "    path_dir = './webnovel_data/' + genre + '/'\n",
    "    file_list = os.listdir(path_dir)\n",
    "    for file_path in file_list:\n",
    "        file_name = path_dir + file_path\n",
    "        fileLst.append(file_name)\n",
    "    for i in range(len(fileLst)):\n",
    "        new_filename = genre + '_' + str(i) + '.txt'\n",
    "        with open(path_dir + new_filename, 'w', encoding = 'utf-8') as new:\n",
    "            subject = '<subject>' + fileLst[i].split('/')[-1][:-4] + '\\n'\n",
    "            new.write(subject)\n",
    "            with open(fileLst[i], encoding = 'utf-8') as old:\n",
    "                new.write(old.read())\n",
    "        os.remove(fileLst[i])"
   ]
  }
 ],
 "metadata": {
  "kernelspec": {
   "display_name": "Python 3",
   "language": "python",
   "name": "python3"
  },
  "language_info": {
   "codemirror_mode": {
    "name": "ipython",
    "version": 3
   },
   "file_extension": ".py",
   "mimetype": "text/x-python",
   "name": "python",
   "nbconvert_exporter": "python",
   "pygments_lexer": "ipython3",
   "version": "3.6.0"
  }
 },
 "nbformat": 4,
 "nbformat_minor": 2
}

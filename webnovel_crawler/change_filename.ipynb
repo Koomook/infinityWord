{
 "cells": [
  {
   "cell_type": "code",
   "execution_count": 1,
   "metadata": {
    "collapsed": true
   },
   "outputs": [],
   "source": [
    "import re\n",
    "import os\n",
    "import codecs"
   ]
  },
  {
   "cell_type": "markdown",
   "metadata": {},
   "source": [
    "# Change filename (Korean to number)"
   ]
  },
  {
   "cell_type": "code",
   "execution_count": 2,
   "metadata": {
    "collapsed": true
   },
   "outputs": [],
   "source": [
    "genre_item_list = {\n",
    "    'romance' : [101, 'rom'], \n",
    "    'romancefantasy' : [109, 'rof'], \n",
    "    'fantasy' : [102, 'sff'], \n",
    "    'action' :[103, 'hro'],\n",
    "    'mystery' : [104,'mth'],\n",
    "    'history&war' :[105, 'his'], \n",
    "    'lightnovel' :[106, 'lno'], \n",
    "    'fusion' : [108, 'fus']\n",
    "} "
   ]
  },
  {
   "cell_type": "code",
   "execution_count": 3,
   "metadata": {
    "collapsed": false
   },
   "outputs": [],
   "source": [
    "for genre in genre_item_list.keys():\n",
    "    fileLst = [] # list of files in directory\n",
    "    path_dir = './webnovel_data/' + genre + '/'\n",
    "    file_list = os.listdir(path_dir)\n",
    "    \n",
    "    for file_path in file_list:\n",
    "        file_name = path_dir + file_path\n",
    "        fileLst.append(file_name)\n",
    "    \n",
    "    for i in range(len(fileLst)):\n",
    "        new_filename = genre + '_' + str(i) + '.txt'\n",
    "        with open(path_dir + new_filename, 'w', encoding = 'utf-8') as new:\n",
    "            subject = '<subject>' + fileLst[i].split('/')[-1][:-4] + '\\n'\n",
    "            new.write(subject)\n",
    "            with open(fileLst[i], encoding = 'utf-8') as old:\n",
    "                new.write(old.read())\n",
    "        os.remove(fileLst[i]) # remove old file\n",
    "    print('{} 이름 변경 성공'.format(genre))"
   ]
  }
 ],
 "metadata": {
  "kernelspec": {
   "display_name": "Python 3",
   "language": "python",
   "name": "python3"
  },
  "language_info": {
   "codemirror_mode": {
    "name": "ipython",
    "version": 3
   },
   "file_extension": ".py",
   "mimetype": "text/x-python",
   "name": "python",
   "nbconvert_exporter": "python",
   "pygments_lexer": "ipython3",
   "version": "3.6.0"
  }
 },
 "nbformat": 4,
 "nbformat_minor": 2
}

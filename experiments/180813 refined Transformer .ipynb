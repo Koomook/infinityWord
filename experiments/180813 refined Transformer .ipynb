{
 "cells": [
  {
   "cell_type": "code",
   "execution_count": null,
   "metadata": {},
   "outputs": [],
   "source": [
    "cd .."
   ]
  },
  {
   "cell_type": "code",
   "execution_count": 2,
   "metadata": {},
   "outputs": [],
   "source": [
    "from datasets.seq2seq_datasets import Seq2SeqIndexedDataset\n",
    "\n",
    "from models.transformer import Transformer, TransformerEncoder, TransformerDecoder\n",
    "from trainers.seq2seq_trainer import Seq2SeqTrainer, seq2seq_collate_fn\n",
    "\n",
    "import torch\n",
    "from torch.utils.data import DataLoader\n",
    "from torch.nn import CrossEntropyLoss\n",
    "from torch.optim import Adam\n",
    "\n",
    "from utils import get_logger\n",
    "\n",
    "from dictionaries import BaseDictionary\n",
    "\n",
    "from trainers.sorted_2d_batch_sampler import Sorted2DBatchSampler, Sorted2DBatchSamplerOnTheFly"
   ]
  },
  {
   "cell_type": "code",
   "execution_count": 3,
   "metadata": {},
   "outputs": [
    {
     "data": {
      "text/plain": [
       "48034"
      ]
     },
     "execution_count": 3,
     "metadata": {},
     "output_type": "execute_result"
    }
   ],
   "source": [
    "dictionary = BaseDictionary.load('base_dictionary')\n",
    "dictionary.vocabulary_size"
   ]
  },
  {
   "cell_type": "code",
   "execution_count": 4,
   "metadata": {},
   "outputs": [],
   "source": [
    "device = torch.device('cpu')"
   ]
  },
  {
   "cell_type": "code",
   "execution_count": 5,
   "metadata": {},
   "outputs": [],
   "source": [
    "embedding = torch.nn.Embedding(num_embeddings=dictionary.vocabulary_size, embedding_dim=512)\n",
    "encoder = TransformerEncoder(layers_count=3, d_model=512, heads_count=8, d_ff=512, dropout_prob=0.2, embedding=embedding)\n",
    "decoder = TransformerDecoder(layers_count=3, d_model=512, heads_count=8, d_ff=512, dropout_prob=0.2, embedding=embedding)\n",
    "model = Transformer(encoder, decoder)"
   ]
  },
  {
   "cell_type": "code",
   "execution_count": 6,
   "metadata": {},
   "outputs": [],
   "source": [
    "logger = get_logger(log_name='transformer')\n",
    "train_dataset = Seq2SeqIndexedDataset('train')\n",
    "val_dataset = Seq2SeqIndexedDataset('val')\n",
    "\n",
    "trainer = Seq2SeqTrainer(model=model, \n",
    "                         train_dataloader=DataLoader(train_dataset, \n",
    "                                                     batch_sampler=Sorted2DBatchSamplerOnTheFly(train_dataset, batch_size=32, drop_last=False, max_length=100), \n",
    "                                                     collate_fn=seq2seq_collate_fn), \n",
    "                         val_dataloader=DataLoader(val_dataset, \n",
    "                                                   batch_sampler=Sorted2DBatchSamplerOnTheFly(val_dataset, batch_size=100, drop_last=False, max_length=100),\n",
    "                                                   collate_fn=seq2seq_collate_fn), \n",
    "                         loss_function=CrossEntropyLoss(reduce=False),\n",
    "                         optimizer=Adam(model.parameters()),\n",
    "                         device=device,\n",
    "                         logger=logger)"
   ]
  },
  {
   "cell_type": "code",
   "execution_count": 14,
   "metadata": {},
   "outputs": [
    {
     "name": "stderr",
     "output_type": "stream",
     "text": [
      "  0%|          | 0/817 [00:00<?, ?it/s]\n"
     ]
    },
    {
     "ename": "TypeError",
     "evalue": "forward() takes 3 positional arguments but 4 were given",
     "output_type": "error",
     "traceback": [
      "\u001b[0;31m---------------------------------------------------------------------------\u001b[0m",
      "\u001b[0;31mTypeError\u001b[0m                                 Traceback (most recent call last)",
      "\u001b[0;32m<ipython-input-14-61e312d3c5fe>\u001b[0m in \u001b[0;36m<module>\u001b[0;34m()\u001b[0m\n\u001b[0;32m----> 1\u001b[0;31m \u001b[0mtrainer\u001b[0m\u001b[0;34m.\u001b[0m\u001b[0mrun\u001b[0m\u001b[0;34m(\u001b[0m\u001b[0mepochs\u001b[0m\u001b[0;34m=\u001b[0m\u001b[0;36m10\u001b[0m\u001b[0;34m)\u001b[0m\u001b[0;34m\u001b[0m\u001b[0m\n\u001b[0m",
      "\u001b[0;32m~/Documents/pozalabs/infinityWord/trainers/seq2seq_trainer.py\u001b[0m in \u001b[0;36mrun\u001b[0;34m(self, epochs)\u001b[0m\n\u001b[1;32m    109\u001b[0m             \u001b[0mself\u001b[0m\u001b[0;34m.\u001b[0m\u001b[0mepoch\u001b[0m \u001b[0;34m=\u001b[0m \u001b[0mepoch\u001b[0m\u001b[0;34m\u001b[0m\u001b[0m\n\u001b[1;32m    110\u001b[0m \u001b[0;34m\u001b[0m\u001b[0m\n\u001b[0;32m--> 111\u001b[0;31m             \u001b[0mtrain_epoch_loss_per_token\u001b[0m\u001b[0;34m,\u001b[0m \u001b[0mval_epoch_loss_per_token\u001b[0m \u001b[0;34m=\u001b[0m \u001b[0mself\u001b[0m\u001b[0;34m.\u001b[0m\u001b[0mtrain\u001b[0m\u001b[0;34m(\u001b[0m\u001b[0mepoch\u001b[0m\u001b[0;34m)\u001b[0m\u001b[0;34m\u001b[0m\u001b[0m\n\u001b[0m\u001b[1;32m    112\u001b[0m \u001b[0;34m\u001b[0m\u001b[0m\n\u001b[1;32m    113\u001b[0m             \u001b[0mself\u001b[0m\u001b[0;34m.\u001b[0m\u001b[0mtrain_epoch_losses\u001b[0m\u001b[0;34m.\u001b[0m\u001b[0mappend\u001b[0m\u001b[0;34m(\u001b[0m\u001b[0mtrain_epoch_loss_per_token\u001b[0m\u001b[0;34m)\u001b[0m\u001b[0;34m\u001b[0m\u001b[0m\n",
      "\u001b[0;32m~/Documents/pozalabs/infinityWord/trainers/seq2seq_trainer.py\u001b[0m in \u001b[0;36mtrain\u001b[0;34m(self, epoch)\u001b[0m\n\u001b[1;32m     46\u001b[0m             \u001b[0mtrain_target_lengths\u001b[0m \u001b[0;34m=\u001b[0m \u001b[0mtrain_target_lengths\u001b[0m\u001b[0;34m.\u001b[0m\u001b[0mto\u001b[0m\u001b[0;34m(\u001b[0m\u001b[0mself\u001b[0m\u001b[0;34m.\u001b[0m\u001b[0mdevice\u001b[0m\u001b[0;34m)\u001b[0m\u001b[0;34m\u001b[0m\u001b[0m\n\u001b[1;32m     47\u001b[0m \u001b[0;34m\u001b[0m\u001b[0m\n\u001b[0;32m---> 48\u001b[0;31m             \u001b[0mtrain_decoder_outputs\u001b[0m\u001b[0;34m,\u001b[0m \u001b[0mtrain_decoder_state\u001b[0m\u001b[0;34m,\u001b[0m \u001b[0mtrain_attentions\u001b[0m \u001b[0;34m=\u001b[0m \u001b[0mself\u001b[0m\u001b[0;34m.\u001b[0m\u001b[0mmodel\u001b[0m\u001b[0;34m(\u001b[0m\u001b[0mtrain_sources\u001b[0m\u001b[0;34m,\u001b[0m \u001b[0mtrain_inputs\u001b[0m\u001b[0;34m,\u001b[0m \u001b[0mtrain_source_lengths\u001b[0m\u001b[0;34m)\u001b[0m\u001b[0;34m\u001b[0m\u001b[0m\n\u001b[0m\u001b[1;32m     49\u001b[0m \u001b[0;34m\u001b[0m\u001b[0m\n\u001b[1;32m     50\u001b[0m             \u001b[0mvocabulary_size\u001b[0m \u001b[0;34m=\u001b[0m \u001b[0mtrain_decoder_outputs\u001b[0m\u001b[0;34m.\u001b[0m\u001b[0msize\u001b[0m\u001b[0;34m(\u001b[0m\u001b[0;34m-\u001b[0m\u001b[0;36m1\u001b[0m\u001b[0;34m)\u001b[0m\u001b[0;34m\u001b[0m\u001b[0m\n",
      "\u001b[0;32m~/anaconda3/lib/python3.6/site-packages/torch/nn/modules/module.py\u001b[0m in \u001b[0;36m__call__\u001b[0;34m(self, *input, **kwargs)\u001b[0m\n\u001b[1;32m    489\u001b[0m             \u001b[0mresult\u001b[0m \u001b[0;34m=\u001b[0m \u001b[0mself\u001b[0m\u001b[0;34m.\u001b[0m\u001b[0m_slow_forward\u001b[0m\u001b[0;34m(\u001b[0m\u001b[0;34m*\u001b[0m\u001b[0minput\u001b[0m\u001b[0;34m,\u001b[0m \u001b[0;34m**\u001b[0m\u001b[0mkwargs\u001b[0m\u001b[0;34m)\u001b[0m\u001b[0;34m\u001b[0m\u001b[0m\n\u001b[1;32m    490\u001b[0m         \u001b[0;32melse\u001b[0m\u001b[0;34m:\u001b[0m\u001b[0;34m\u001b[0m\u001b[0m\n\u001b[0;32m--> 491\u001b[0;31m             \u001b[0mresult\u001b[0m \u001b[0;34m=\u001b[0m \u001b[0mself\u001b[0m\u001b[0;34m.\u001b[0m\u001b[0mforward\u001b[0m\u001b[0;34m(\u001b[0m\u001b[0;34m*\u001b[0m\u001b[0minput\u001b[0m\u001b[0;34m,\u001b[0m \u001b[0;34m**\u001b[0m\u001b[0mkwargs\u001b[0m\u001b[0;34m)\u001b[0m\u001b[0;34m\u001b[0m\u001b[0m\n\u001b[0m\u001b[1;32m    492\u001b[0m         \u001b[0;32mfor\u001b[0m \u001b[0mhook\u001b[0m \u001b[0;32min\u001b[0m \u001b[0mself\u001b[0m\u001b[0;34m.\u001b[0m\u001b[0m_forward_hooks\u001b[0m\u001b[0;34m.\u001b[0m\u001b[0mvalues\u001b[0m\u001b[0;34m(\u001b[0m\u001b[0;34m)\u001b[0m\u001b[0;34m:\u001b[0m\u001b[0;34m\u001b[0m\u001b[0m\n\u001b[1;32m    493\u001b[0m             \u001b[0mhook_result\u001b[0m \u001b[0;34m=\u001b[0m \u001b[0mhook\u001b[0m\u001b[0;34m(\u001b[0m\u001b[0mself\u001b[0m\u001b[0;34m,\u001b[0m \u001b[0minput\u001b[0m\u001b[0;34m,\u001b[0m \u001b[0mresult\u001b[0m\u001b[0;34m)\u001b[0m\u001b[0;34m\u001b[0m\u001b[0m\n",
      "\u001b[0;31mTypeError\u001b[0m: forward() takes 3 positional arguments but 4 were given"
     ]
    }
   ],
   "source": [
    "trainer.run(epochs=10)"
   ]
  },
  {
   "cell_type": "code",
   "execution_count": 7,
   "metadata": {},
   "outputs": [],
   "source": [
    "from generators.base_generators import CandidatesTransformerGenerator"
   ]
  },
  {
   "cell_type": "code",
   "execution_count": 10,
   "metadata": {},
   "outputs": [],
   "source": [
    "generator = CandidatesTransformerGenerator(model=model,\n",
    "                    preprocess=lambda source: [dictionary[word] for word in sum([sentence.split() for sentence in source], [])],\n",
    "                    postprocess=lambda h: ' '.join([dictionary.idx2word[token_id] for token_id in h[:-1]]), # exclude EndSent token\n",
    "#                     checkpoint_filepath='parameters/Seq2SeqModel/Seq2SeqModel_0_2018-08-05 14:23:30.982203.pth',\n",
    "                    max_length=30,\n",
    "                    beam_size=8\n",
    "                   )"
   ]
  },
  {
   "cell_type": "code",
   "execution_count": 11,
   "metadata": {},
   "outputs": [
    {
     "data": {
      "text/plain": [
       "['워낙에 좇을 ⎡부인. 풍경에 ⎡전하! 사냐고 적군들도 문경지교. 누려야지 ⎜오그라들지도 푸르스름한 비통한 얼굴에도 목구멍에서 휘종도 통증에 정계 싱그러웠던 벌이는 펄럭이며 스며들겠구나. 물으면 만났사옵니다. ⎡……참으로 천장에 유씨라는 체통도 치켜뜨며 ⎡고개를',\n",
       " '워낙에 좇을 ⎡부인. 풍경에 ⎡전하! 사냐고 적군들도 문경지교. 누려야지 ⎜오그라들지도 푸르스름한 비통한 얼굴에도 목구멍에서 휘종도 통증에 정계 싱그러웠던 벌이는 펄럭이며 스며들겠구나. 물으면 만났사옵니다. ⎡……참으로 천장에 유씨라는 체통도 치켜뜨며 ⎡고개를',\n",
       " '워낙에 좇을 ⎡부인. 풍경에 ⎡전하! 사냐고 적군들도 문경지교. 누려야지 ⎜오그라들지도 푸르스름한 비통한 얼굴에도 목구멍에서 휘종도 통증에 정계 싱그러웠던 벌이는 펄럭이며 스며들겠구나. 물으면 만났사옵니다. ⎡……참으로 천장에 유씨라는 체통도 치켜뜨며 ⎡어째서',\n",
       " '워낙에 좇을 ⎡부인. 풍경에 ⎡전하! 사냐고 적군들도 문경지교. 누려야지 ⎜오그라들지도 푸르스름한 비통한 얼굴에도 목구멍에서 휘종도 통증에 정계 싱그러웠던 벌이는 펄럭이며 스며들겠구나. 물으면 만났사옵니다. ⎡……참으로 천장에 유씨라는 ⎡막내 돌보지 어떻고요.',\n",
       " '워낙에 좇을 ⎡부인. 풍경에 ⎡전하! 사냐고 적군들도 문경지교. 누려야지 ⎜오그라들지도 푸르스름한 비통한 얼굴에도 목구멍에서 휘종도 통증에 정계 싱그러웠던 벌이는 펄럭이며 스며들겠구나. 물으면 만났사옵니다. ⎡……참으로 천장에 유씨라는 ⎡막내 돌보지 어떻고요.']"
      ]
     },
     "execution_count": 11,
     "metadata": {},
     "output_type": "execute_result"
    }
   ],
   "source": [
    "generator.generate_candidates(['버려진 섬마다 꽃이 피었다', '그 꽃들은 정말 아름다운 꽃이었다'], n_candidates=5)"
   ]
  },
  {
   "cell_type": "code",
   "execution_count": 9,
   "metadata": {},
   "outputs": [
    {
     "name": "stdout",
     "output_type": "stream",
     "text": [
      "> \u001b[0;32m/Users/dreamgonfly/anaconda3/lib/python3.6/site-packages/torch/tensor.py\u001b[0m(302)\u001b[0;36mexpand_as\u001b[0;34m()\u001b[0m\n",
      "\u001b[0;32m    300 \u001b[0;31m\u001b[0;34m\u001b[0m\u001b[0m\n",
      "\u001b[0m\u001b[0;32m    301 \u001b[0;31m    \u001b[0;32mdef\u001b[0m \u001b[0mexpand_as\u001b[0m\u001b[0;34m(\u001b[0m\u001b[0mself\u001b[0m\u001b[0;34m,\u001b[0m \u001b[0mtensor\u001b[0m\u001b[0;34m)\u001b[0m\u001b[0;34m:\u001b[0m\u001b[0;34m\u001b[0m\u001b[0m\n",
      "\u001b[0m\u001b[0;32m--> 302 \u001b[0;31m        \u001b[0;32mreturn\u001b[0m \u001b[0mself\u001b[0m\u001b[0;34m.\u001b[0m\u001b[0mexpand\u001b[0m\u001b[0;34m(\u001b[0m\u001b[0mtensor\u001b[0m\u001b[0;34m.\u001b[0m\u001b[0msize\u001b[0m\u001b[0;34m(\u001b[0m\u001b[0;34m)\u001b[0m\u001b[0;34m)\u001b[0m\u001b[0;34m\u001b[0m\u001b[0m\n",
      "\u001b[0m\u001b[0;32m    303 \u001b[0;31m\u001b[0;34m\u001b[0m\u001b[0m\n",
      "\u001b[0m\u001b[0;32m    304 \u001b[0;31m    \u001b[0;32mdef\u001b[0m \u001b[0munique\u001b[0m\u001b[0;34m(\u001b[0m\u001b[0mself\u001b[0m\u001b[0;34m,\u001b[0m \u001b[0msorted\u001b[0m\u001b[0;34m=\u001b[0m\u001b[0;32mFalse\u001b[0m\u001b[0;34m,\u001b[0m \u001b[0mreturn_inverse\u001b[0m\u001b[0;34m=\u001b[0m\u001b[0;32mFalse\u001b[0m\u001b[0;34m)\u001b[0m\u001b[0;34m:\u001b[0m\u001b[0;34m\u001b[0m\u001b[0m\n",
      "\u001b[0m\n"
     ]
    },
    {
     "name": "stdin",
     "output_type": "stream",
     "text": [
      "ipdb>  q\n"
     ]
    }
   ],
   "source": [
    "%debug"
   ]
  },
  {
   "cell_type": "code",
   "execution_count": null,
   "metadata": {},
   "outputs": [],
   "source": []
  }
 ],
 "metadata": {
  "kernelspec": {
   "display_name": "Python 3",
   "language": "python",
   "name": "python3"
  },
  "language_info": {
   "codemirror_mode": {
    "name": "ipython",
    "version": 3
   },
   "file_extension": ".py",
   "mimetype": "text/x-python",
   "name": "python",
   "nbconvert_exporter": "python",
   "pygments_lexer": "ipython3",
   "version": "3.6.4"
  }
 },
 "nbformat": 4,
 "nbformat_minor": 2
}
